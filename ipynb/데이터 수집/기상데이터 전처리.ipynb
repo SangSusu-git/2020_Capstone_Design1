{
 "cells": [
  {
   "cell_type": "code",
   "execution_count": 20,
   "metadata": {},
   "outputs": [
    {
     "name": "stdout",
     "output_type": "stream",
     "text": [
      "20200424211344.zip\n",
      "20200100\n"
     ]
    }
   ],
   "source": [
    "from selenium import webdriver\n",
    "from selenium.webdriver.common.keys import Keys\n",
    "from selenium.webdriver.support.ui import Select\n",
    "import time\n",
    "from bs4 import BeautifulSoup\n",
    "import pandas as pd\n",
    "import numpy as np\n",
    "import requests\n",
    "from bs4 import BeautifulSoup\n",
    "import re\n",
    "import zipfile\n",
    "import os\n",
    "import pandas as pd\n",
    "chromedriver = 'chromedriver.exe' \n",
    "driver = webdriver.Chrome('C:/project program/chromedriver_win32/chromedriver.exe')\n",
    "driver.implicitly_wait(3) \n",
    "\n",
    "driver.get('https://data.kma.go.kr/data/rmt/rmtList.do?code=400&pgmNo=570')\n",
    "time.sleep(2)\n",
    "\n",
    "html = driver.page_source\n",
    "bs=BeautifulSoup(html,'html.parser')\n",
    "\n",
    "path = \"C:/Users/user/Downloads/weather data/humidity\"\n",
    "file_list = os.listdir(path)\n",
    "print(file_list[0])\n",
    "\n",
    "os.chdir(path)\n",
    "weatherzip=zipfile.ZipFile(file_list[0])\n",
    "weatherzip.extractall()\n",
    "weatherzip.close()\n",
    "file_list1=os.listdir(path)\n",
    "\n",
    "jachigu='#ztree_'+gu+'_span'\n",
    "jachigu1=bs.select(jachigu)[0].text\n",
    "year1=2021-int(year)\n",
    "year2=str(year1)+'0000'\n",
    "month1=int(month)*100\n",
    "date=int(year2)+month1\n",
    "print(date)\n",
    "wt=pd.read_csv(file_list1[0], encoding='utf-8')\n",
    "wt=wt.rename(columns={wt.columns[0]:'day',wt.columns[2]:elem2})\n",
    "del wt['hour']\n",
    "wt1=wt.groupby(['day'], as_index=False).mean()\n",
    "wt1['날짜']=date + (wt1['day'])\n",
    "wt1['자치구']=jachigu1\n",
    "del wt1[\"day\"]\n",
    "date1=str(date)+'.csv'\n",
    "date2='C:/Users/user/Downloads/chromedownload/'+date1\n",
    "wt1.to_csv(date2,header=True, encoding='utf-8-sig')\n",
    "file1='C:/Users/user/Downloads' + file_list1[0]\n",
    "file2=\"C:/Users/user/Downloads\"+ file_list1[1]\n",
    "os.remove(file1)\n",
    "os.remove(file2)"
   ]
  }
 ],
 "metadata": {
  "kernelspec": {
   "display_name": "Python 3",
   "language": "python",
   "name": "python3"
  },
  "language_info": {
   "codemirror_mode": {
    "name": "ipython",
    "version": 3
   },
   "file_extension": ".py",
   "mimetype": "text/x-python",
   "name": "python",
   "nbconvert_exporter": "python",
   "pygments_lexer": "ipython3",
   "version": "3.7.4"
  }
 },
 "nbformat": 4,
 "nbformat_minor": 2
}
